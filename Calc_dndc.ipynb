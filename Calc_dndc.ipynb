{
  "nbformat": 4,
  "nbformat_minor": 0,
  "metadata": {
    "colab": {
      "provenance": []
    },
    "kernelspec": {
      "name": "python3",
      "display_name": "Python 3"
    },
    "language_info": {
      "name": "python"
    }
  },
  "cells": [
    {
      "cell_type": "code",
      "execution_count": 25,
      "metadata": {
        "id": "fgcHPzwFAI5S"
      },
      "outputs": [],
      "source": [
        "import numpy as np\n",
        "import pandas as pd\n",
        "data = {\n",
        "    'chr':['A', 'R', 'N', 'D', 'C', 'Q', 'E', 'G', 'H', 'I', 'L', 'K', 'M', 'F', 'P', 'S', 'T', 'W', 'Y', 'V'],\n",
        "    'dbl':[0.167, 0.206, 0.192, 0.197, 0.206, 0.186, 0.183, 0.175, 0.219, 0.179, 0.173, 0.181, 0.204, 0.244, 0.165, 0.17, 0.172, 0.277, 0.24, 0.172],\n",
        "    'MW':[89, 174, 132, 133, 121, 146, 147, 75, 155, 131, 131, 146, 149, 165, 115, 105, 119, 204, 181, 117]\n",
        "    }\n",
        "df = pd.DataFrame.from_dict(data)\n"
      ]
    },
    {
      "cell_type": "code",
      "source": [
        "# В кавычки вставить последовательность\n",
        "seq = ''"
      ],
      "metadata": {
        "id": "wESKETpfI_6V"
      },
      "execution_count": 26,
      "outputs": []
    },
    {
      "cell_type": "code",
      "source": [
        "def calculate_dndc(df, seq):\n",
        "  N = []\n",
        "  for item in df['chr'].to_list():\n",
        "    N.append(seq.count(item))\n",
        "  MW_prot = 0\n",
        "  for i in range(0, 20):\n",
        "    MW_prot += N[i-1]*df.iloc[i-1]['MW']\n",
        "  res = 0\n",
        "  for i in range(0, 20):\n",
        "    res += N[i-1]*df.iloc[i-1]['dbl']*df.iloc[i-1]['MW']\n",
        "  return res/MW_prot\n",
        "\n"
      ],
      "metadata": {
        "id": "xRYBsAVbLN1e"
      },
      "execution_count": 27,
      "outputs": []
    },
    {
      "cell_type": "code",
      "source": [
        "calculate_dndc(df, seq)"
      ],
      "metadata": {
        "colab": {
          "base_uri": "https://localhost:8080/"
        },
        "id": "xqqTFPYHP8Nq",
        "outputId": "9c5ad5c6-9566-4629-a04b-12eec150fb4a"
      },
      "execution_count": 28,
      "outputs": [
        {
          "output_type": "execute_result",
          "data": {
            "text/plain": [
              "0.1895473020322354"
            ]
          },
          "metadata": {},
          "execution_count": 28
        }
      ]
    }
  ]
}